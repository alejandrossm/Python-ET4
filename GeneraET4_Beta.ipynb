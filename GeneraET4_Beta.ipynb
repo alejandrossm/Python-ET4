{
  "cells": [
    {
      "cell_type": "code",
      "execution_count": null,
      "metadata": {
        "colab": {
          "base_uri": "https://localhost:8080/"
        },
        "id": "9XJI0GhcyHGo",
        "outputId": "fdffc636-43c5-4bb1-fe53-10f5640b75a7"
      },
      "outputs": [
        {
          "ename": "",
          "evalue": "",
          "output_type": "error",
          "traceback": [
            "\u001b[1;31mRunning cells with 'Python 3.12.2' requires the ipykernel package.\n",
            "\u001b[1;31mRun the following command to install 'ipykernel' into the Python environment. \n",
            "\u001b[1;31mCommand: '\"c:/Program Files/Python312/python.exe\" -m pip install ipykernel -U --user --force-reinstall'"
          ]
        }
      ],
      "source": [
        "#!pip install openpyxl"
      ]
    },
    {
      "cell_type": "code",
      "execution_count": null,
      "metadata": {
        "id": "dCNOoFNryOyt"
      },
      "outputs": [
        {
          "ename": "",
          "evalue": "",
          "output_type": "error",
          "traceback": [
            "\u001b[1;31mRunning cells with 'Python 3.12.2' requires the ipykernel package.\n",
            "\u001b[1;31mRun the following command to install 'ipykernel' into the Python environment. \n",
            "\u001b[1;31mCommand: '\"c:/Program Files/Python312/python.exe\" -m pip install ipykernel -U --user --force-reinstall'"
          ]
        }
      ],
      "source": [
        "import openpyxl\n",
        "import pandas as pd"
      ]
    },
    {
      "cell_type": "code",
      "execution_count": null,
      "metadata": {
        "colab": {
          "base_uri": "https://localhost:8080/",
          "height": 246
        },
        "id": "0kHwfgqbyRfC",
        "outputId": "d99ed6be-4d18-44e5-bf2c-2f4cbef56491"
      },
      "outputs": [
        {
          "ename": "",
          "evalue": "",
          "output_type": "error",
          "traceback": [
            "\u001b[1;31mRunning cells with 'Python 3.12.2' requires the ipykernel package.\n",
            "\u001b[1;31mRun the following command to install 'ipykernel' into the Python environment. \n",
            "\u001b[1;31mCommand: '\"c:/Program Files/Python312/python.exe\" -m pip install ipykernel -U --user --force-reinstall'"
          ]
        }
      ],
      "source": [
        "# Carga un archivo CSV con los datos\n",
        "resultados = pd.read_csv(\"carga.csv\", sep=\";\", header = 0, index_col = False)\n",
        "resultados"
      ]
    },
    {
      "cell_type": "code",
      "execution_count": null,
      "metadata": {
        "id": "6Cz_KpkKyVNC"
      },
      "outputs": [
        {
          "ename": "",
          "evalue": "",
          "output_type": "error",
          "traceback": [
            "\u001b[1;31mRunning cells with 'Python 3.12.2' requires the ipykernel package.\n",
            "\u001b[1;31mRun the following command to install 'ipykernel' into the Python environment. \n",
            "\u001b[1;31mCommand: '\"c:/Program Files/Python312/python.exe\" -m pip install ipykernel -U --user --force-reinstall'"
          ]
        }
      ],
      "source": [
        "# Setea las celdas en donde irán los datos en la planilla \n",
        "# (esto quizás debe quedar en un archivo de configuración)\n",
        "dict_celdas = {\n",
        "  'nombre' : 'G8',\n",
        "  'rut' : 'G10',\n",
        "  'asignatura' : 'Y10',\n",
        "  'sigla' : 'G12',\n",
        "  'seccion' : 'S12',\n",
        "  'jornada' : 'AC12',\n",
        "  'sede' : 'AM12'    \n",
        "}\n",
        "# Fila en la que comienzan los indicadores\n",
        "row = 30\n",
        "# Nombre de las columnas en la planilla\n",
        "columns = 'DFHJL'\n",
        "# Posibles valores de los indicadores\n",
        "valores = \"abcde\"\n",
        "# Cantidad de indicadores que tiene el instrumento\n",
        "n_indicadores = 8\n",
        "# Nombre de la plantilla\n",
        "wb_name = \"PlantillaET4.xlsx\"\n",
        "# Nombre de la hoja\n",
        "sheet_name = \"ET4\""
      ]
    },
    {
      "cell_type": "code",
      "execution_count": null,
      "metadata": {
        "id": "765iSzBPyaKw"
      },
      "outputs": [
        {
          "ename": "",
          "evalue": "",
          "output_type": "error",
          "traceback": [
            "\u001b[1;31mRunning cells with 'Python 3.12.2' requires the ipykernel package.\n",
            "\u001b[1;31mRun the following command to install 'ipykernel' into the Python environment. \n",
            "\u001b[1;31mCommand: '\"c:/Program Files/Python312/python.exe\" -m pip install ipykernel -U --user --force-reinstall'"
          ]
        }
      ],
      "source": [
        "for indice in range(resultados.shape[0]):\n",
        "  row = 30 # Reinicia la fila\n",
        "  # Selecciona la plantilla que se debe completar\n",
        "  wb = openpyxl.load_workbook(wb_name)\n",
        "  # Selecciona la hoja que se debe completar\n",
        "  sheet = wb[sheet_name]\n",
        "\n",
        "  # Obtiene los datos generales del archivo\n",
        "  for dato, celda in dict_celdas.items():\n",
        "    sheet[celda] = resultados[dato.upper()][indice]\n",
        "\n",
        "  # Obtiene los indicadores\n",
        "  indicadores = dict()\n",
        "  for i in range(1, n_indicadores+1):\n",
        "    indicadores[str(i)] = resultados['I' + str(i)][indice]\n",
        "  # Iteramos los datos para ir marcando el indicador\n",
        "  for indicador, valor in indicadores.items():  \n",
        "    col = columns[valores.index(valor)]\n",
        "    name_col = col + str(row)\n",
        "    sheet[name_col] = 'x'\n",
        "    row += 2\n",
        "\n",
        "  # Guarda el archivo usando el nombre del estudiante\n",
        "  nombre = resultados['nombre'.upper()][indice]\n",
        "  destino = \"ET4-\" + nombre + \".xlsx\"\n",
        "  wb.save(destino)    \n",
        "  \n",
        "  # Cierra la plantilla para poder abrirla con el siguiente estudiante\n",
        "  wb.close()"
      ]
    }
  ],
  "metadata": {
    "colab": {
      "name": "GeneraET4-Beta.ipynb",
      "provenance": []
    },
    "kernelspec": {
      "display_name": "Python 3",
      "name": "python3"
    },
    "language_info": {
      "name": "python",
      "version": "3.12.2"
    }
  },
  "nbformat": 4,
  "nbformat_minor": 0
}
